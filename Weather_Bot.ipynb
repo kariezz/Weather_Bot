{
  "nbformat": 4,
  "nbformat_minor": 0,
  "metadata": {
    "colab": {
      "provenance": [],
      "authorship_tag": "ABX9TyPwaCEfXwALISKxBdiqJ1zr",
      "include_colab_link": true
    },
    "kernelspec": {
      "name": "python3",
      "display_name": "Python 3"
    },
    "language_info": {
      "name": "python"
    }
  },
  "cells": [
    {
      "cell_type": "markdown",
      "metadata": {
        "id": "view-in-github",
        "colab_type": "text"
      },
      "source": [
        "<a href=\"https://colab.research.google.com/github/kariezz/Weather_Bot/blob/main/Weather_Bot.ipynb\" target=\"_parent\"><img src=\"https://colab.research.google.com/assets/colab-badge.svg\" alt=\"Open In Colab\"/></a>"
      ]
    },
    {
      "cell_type": "code",
      "source": [
        "TOKEN = '7093430907:AAHYEvA7yE2zX17zv31Q7Rl85WvjSoCieUA'\n",
        "API_KEY = 'cd2586ac2d549dfe6f8a13ddc47c7b55'\n",
        "URL_WEATHER_API = 'https://api.openweathermap.org/data/2.5/weather'"
      ],
      "metadata": {
        "id": "k918zX8QeWkv"
      },
      "execution_count": null,
      "outputs": []
    },
    {
      "cell_type": "code",
      "source": [
        "import telebot\n",
        "from telebot.types import ReplyKeyboardMarkup, KeyboardButton\n",
        "import random\n",
        "\n",
        "import requests\n",
        "\n",
        "bot = telebot.TeleBot(TOKEN)\n",
        "\n",
        "keyboard = ReplyKeyboardMarkup(resize_keyboard = True)\n",
        "keyboard.add(KeyboardButton('Узнать погоду', request_location = True)),\n",
        "keyboard.add(KeyboardButton('О проекте'))\n",
        "\n",
        "\n",
        "\n",
        "def get_weather(lat, lon):\n",
        "\n",
        "    WEATHER_PARAMS = {\n",
        "    'appid': API_KEY,\n",
        "    'lat': lat,\n",
        "    'lon': lon,\n",
        "    'units': 'metric',\n",
        "    'lang': 'ru'\n",
        "    }\n",
        "\n",
        "    response = requests.get(url = URL_WEATHER_API, params = WEATHER_PARAMS)\n",
        "    json = response.json()\n",
        "    city = json['name']\n",
        "    weather = json['weather'][0]['description']\n",
        "    temp = int(json['main']['temp'])\n",
        "    return f'Погода в городе: {city}. {weather.capitalize()}, температура: {temp} °C.'\n",
        "\n",
        "\n",
        "@bot.message_handler(commands=['start'])\n",
        "def send_welcome(message):\n",
        "    bot.send_message(message.chat.id,\n",
        "                     'Привет! Я - бот, который делится с погодой в твоем городе',\n",
        "                     reply_markup=keyboard)\n",
        "\n",
        "@bot.message_handler(content_types = ['location'])\n",
        "def send_weather(message):\n",
        "    lat, lon = message.location.longitude, message.location.latitude\n",
        "    weather = get_weather(lon, lat)\n",
        "    if weather:\n",
        "          bot.send_message(message.chat.id,\n",
        "                     weather,\n",
        "                     reply_markup=keyboard)\n",
        "\n",
        "\n",
        "\n",
        "\n",
        "@bot.message_handler(regexp = 'О проекте')\n",
        "def send_about(message):\n",
        "    bot.send_message(message.chat.id,\n",
        "                     'Я смачный бот',\n",
        "                     reply_markup=keyboard)\n",
        "\n",
        "\n",
        "bot.infinity_polling()"
      ],
      "metadata": {
        "id": "3xRPL4YScjGW",
        "colab": {
          "base_uri": "https://localhost:8080/"
        },
        "outputId": "90146009-a387-40a2-f248-b45e2fd96358"
      },
      "execution_count": null,
      "outputs": [
        {
          "output_type": "stream",
          "name": "stderr",
          "text": [
            "2024-03-14 12:27:11,838 (__init__.py:1027 MainThread) ERROR - TeleBot: \"Infinity polling: polling exited\"\n",
            "ERROR:TeleBot:Infinity polling: polling exited\n",
            "2024-03-14 12:27:11,842 (__init__.py:1029 MainThread) ERROR - TeleBot: \"Break infinity polling\"\n",
            "ERROR:TeleBot:Break infinity polling\n"
          ]
        }
      ]
    },
    {
      "cell_type": "code",
      "source": [
        "!pip install pyTelegramBotAPI"
      ],
      "metadata": {
        "colab": {
          "base_uri": "https://localhost:8080/"
        },
        "id": "9nvaLeuCevxA",
        "outputId": "cf2651cd-386a-49f3-fff3-1c7b2b468a3a"
      },
      "execution_count": null,
      "outputs": [
        {
          "output_type": "stream",
          "name": "stdout",
          "text": [
            "Collecting pyTelegramBotAPI\n",
            "  Downloading pytelegrambotapi-4.16.1-py3-none-any.whl (232 kB)\n",
            "\u001b[?25l     \u001b[90m━━━━━━━━━━━━━━━━━━━━━━━━━━━━━━━━━━━━━━━━\u001b[0m \u001b[32m0.0/232.2 kB\u001b[0m \u001b[31m?\u001b[0m eta \u001b[36m-:--:--\u001b[0m\r\u001b[2K     \u001b[91m━━━━━━━━━━━━━━\u001b[0m\u001b[90m╺\u001b[0m\u001b[90m━━━━━━━━━━━━━━━━━━━━━━━━━\u001b[0m \u001b[32m81.9/232.2 kB\u001b[0m \u001b[31m2.3 MB/s\u001b[0m eta \u001b[36m0:00:01\u001b[0m\r\u001b[2K     \u001b[90m━━━━━━━━━━━━━━━━━━━━━━━━━━━━━━━━━━━━━━━━\u001b[0m \u001b[32m232.2/232.2 kB\u001b[0m \u001b[31m3.3 MB/s\u001b[0m eta \u001b[36m0:00:00\u001b[0m\n",
            "\u001b[?25hRequirement already satisfied: requests in /usr/local/lib/python3.10/dist-packages (from pyTelegramBotAPI) (2.31.0)\n",
            "Requirement already satisfied: charset-normalizer<4,>=2 in /usr/local/lib/python3.10/dist-packages (from requests->pyTelegramBotAPI) (3.3.2)\n",
            "Requirement already satisfied: idna<4,>=2.5 in /usr/local/lib/python3.10/dist-packages (from requests->pyTelegramBotAPI) (3.6)\n",
            "Requirement already satisfied: urllib3<3,>=1.21.1 in /usr/local/lib/python3.10/dist-packages (from requests->pyTelegramBotAPI) (2.0.7)\n",
            "Requirement already satisfied: certifi>=2017.4.17 in /usr/local/lib/python3.10/dist-packages (from requests->pyTelegramBotAPI) (2024.2.2)\n",
            "Installing collected packages: pyTelegramBotAPI\n",
            "Successfully installed pyTelegramBotAPI-4.16.1\n"
          ]
        }
      ]
    }
  ]
}